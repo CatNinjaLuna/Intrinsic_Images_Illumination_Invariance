{
 "cells": [
  {
   "cell_type": "markdown",
   "id": "95bf17ed",
   "metadata": {},
   "source": [
    "![Figure1](Figure1.png)\n",
    "\n",
    "This is Figure 1, inserted as an image in the notebook. (Filename updated to remove spaces.)"
   ]
  },
  {
   "cell_type": "markdown",
   "id": "4aec6628",
   "metadata": {},
   "source": [
    "Log-Chromaticity (Left Image)\n",
    "- Each surface has a characteristic reflectance (its true color)\n",
    "- When the illumination color changes (sunlight vs indoor light), the measured RGB of that material shifts, along a straight line. \n",
    "- "
   ]
  },
  {
   "cell_type": "markdown",
   "id": "d3ae3dca",
   "metadata": {},
   "source": [
    "Imagine a white sheet of paper:\n",
    "- Under warm indoor lighting (yellowish), it appears slightly yellow.\n",
    "- Under cool daylight (bluish), it appears bluish.\n",
    "- If you plot its log(G/R), log(B/R), the pixels don’t scatter randomly; instead, they line up along one straight line → this is the illumination trajectory for that surface.\n",
    "So the “line” is the set of all possible color appearances of one material under different illuminants.\n",
    "\n",
    "In the code, offsets creates parallel lines that don’t overlap.\n",
    "Each parallel line represents a different material with its own intrinsic reflectance.\n",
    "Examples of different materials:\n",
    "   Surface 1: white paper\n",
    "   Surface 2: red brick wall\n",
    "   Surface 3: green grass\n",
    "   Surface 4: blue sky patch\n",
    "   Surface 5: wooden floor"
   ]
  },
  {
   "cell_type": "markdown",
   "id": "92e0911d",
   "metadata": {},
   "source": [
    "About Illumination-invariant axis\n",
    "When the pixel values in the log-chromaticity space projected onto the 'illumination-invariant axis', points from the same surface collapse to the same value ---> this way, you are able to recover intrinsic properties like the intrinsic reflectance(greyscale intensity)"
   ]
  },
  {
   "cell_type": "markdown",
   "id": "29a7ab32",
   "metadata": {},
   "source": [
    "The right hand side histogram:\n",
    "It shows a histogram of the projected values (the dot products between each point in log-chromaticity space and the invariant axis)\n",
    "Each bar corresponded to how mang pixels ended up with a certain illumination-invariant intensity after projection. \n",
    "One bin is one distinct peak for each material. \n"
   ]
  },
  {
   "cell_type": "markdown",
   "id": "2d1b3c95",
   "metadata": {},
   "source": [
    "Before projection (left plot):\n",
    "Materials are distinguishable (separate lines) but illumination smears them along the lines.\n",
    "   In the left plot, each surface (say, “Surface 1 = blue dots”) corresponds to one material.\n",
    "   If illumination were constant, all those pixels would collapse to a single point in log-chromaticity space.\n",
    "   But in reality, the illumination color changes (warmer, cooler, brighter, dimmer).\n",
    "   These changes don’t move the pixels randomly.\n",
    "   They move them in a specific direction (the illumination trajectory).\n",
    "   So instead of a sharp cluster (a point), you get a line of points — “smeared” along that trajectory.\n",
    "\n",
    "After projection (right plot):\n",
    "Illumination variation disappears.\n",
    "Each material becomes a compact cluster → its intrinsic signature.\n",
    "So the histogram is effectively the greyscale intrinsic image: 5 grey levels, one per material, illumination removed."
   ]
  },
  {
   "cell_type": "code",
   "execution_count": null,
   "id": "dfe27103",
   "metadata": {},
   "outputs": [],
   "source": []
  }
 ],
 "metadata": {
  "kernelspec": {
   "display_name": "Python 3",
   "language": "python",
   "name": "python3"
  },
  "language_info": {
   "name": "python",
   "version": "3.13.2"
  }
 },
 "nbformat": 4,
 "nbformat_minor": 5
}
